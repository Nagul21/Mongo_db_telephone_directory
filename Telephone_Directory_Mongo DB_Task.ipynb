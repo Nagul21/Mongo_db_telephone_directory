{
 "cells": [
  {
   "cell_type": "markdown",
   "id": "fc7223d5",
   "metadata": {},
   "source": [
    "# Creating Database\n",
    "#Creating Collection\n",
    "#Inserted 30 record into the collection"
   ]
  },
  {
   "cell_type": "code",
   "execution_count": 34,
   "id": "33e665ed",
   "metadata": {},
   "outputs": [
    {
     "name": "stdout",
     "output_type": "stream",
     "text": [
      "Enter your Name....  Kumar\n",
      "Enter your Mobile Number.... 7000012345\n",
      "Enter your Location....Vellore\n",
      "Enter your Date of Birth, eg:- 01/01/200010/10/1994\n"
     ]
    },
    {
     "data": {
      "text/plain": [
       "<pymongo.results.InsertOneResult at 0x22f23deffa0>"
      ]
     },
     "execution_count": 34,
     "metadata": {},
     "output_type": "execute_result"
    }
   ],
   "source": [
    "\n",
    "import pymongo\n",
    "myclient=pymongo.MongoClient(\"mongodb://127.0.0.1:27017/\")\n",
    "mydb=myclient['Telephone_Directory']\n",
    "Telephone_D=mydb['Telephone_D']\n",
    "\n",
    "\n",
    "Telephone_data={\n",
    "    'Name':input(\"Enter your Name....  \"),\n",
    "    'Mobile_Num' : int(input(\"Enter your Mobile Number.... \")),\n",
    "    'Location' : input(\"Enter your Location....\"),\n",
    "    'DOB': input(\"Enter your Date of Birth, eg:- 01/01/2000...\")\n",
    "}\n",
    "\n",
    "Telephone_D.insert_one(Telephone_data)\n"
   ]
  },
  {
   "cell_type": "markdown",
   "id": "1fcae76f",
   "metadata": {},
   "source": [
    "# Finding inserted Documents...."
   ]
  },
  {
   "cell_type": "code",
   "execution_count": 38,
   "id": "6fa8b949",
   "metadata": {},
   "outputs": [
    {
     "name": "stdout",
     "output_type": "stream",
     "text": [
      "{'_id': ObjectId('6355f8ef0ac245503f5d1d39'), 'Name': 'Arun B', 'Mobile_Num': 5714236589, 'Location': 'Thanjavur', 'DOB': '20/05/1999'}\n",
      "{'_id': ObjectId('6355f9260ac245503f5d1d3b'), 'Name': 'Aadhi', 'Mobile_Num': 6589564112, 'Location': 'Coimbatore', 'DOB': '26/11/1998'}\n",
      "{'_id': ObjectId('6355f9520ac245503f5d1d3d'), 'Name': 'Abinaya', 'Mobile_Num': 5432169875, 'Location': 'Chennai', 'DOB': '19/09/1999'}\n",
      "{'_id': ObjectId('6355f9880ac245503f5d1d3f'), 'Name': 'Balaji S', 'Mobile_Num': 7788996655, 'Location': 'Tirupur', 'DOB': '15/12/2000'}\n",
      "{'_id': ObjectId('6355f9c10ac245503f5d1d41'), 'Name': 'Bobby', 'Mobile_Num': 9988776655, 'Location': 'Pondicherry', 'DOB': '02/12/1999'}\n",
      "{'_id': ObjectId('6355fa000ac245503f5d1d43'), 'Name': 'Barath', 'Mobile_Num': 9876543210, 'Location': 'Chidambaram', 'DOB': '16/08/2002'}\n",
      "{'_id': ObjectId('6355fa2e0ac245503f5d1d45'), 'Name': 'Chandru', 'Mobile_Num': 9887766559, 'Location': 'Tindivanam', 'DOB': '02/06/2000'}\n",
      "{'_id': ObjectId('6355fa5c0ac245503f5d1d47'), 'Name': 'Chennu', 'Mobile_Num': 5698712365, 'Location': 'Chengalpattu', 'DOB': '01/01/2001'}\n",
      "{'_id': ObjectId('6355fa8f0ac245503f5d1d49'), 'Name': 'Charu', 'Mobile_Num': 9998887776, 'Location': 'Tiruvalur', 'DOB': '04/07/1999'}\n",
      "{'_id': ObjectId('6355fabb0ac245503f5d1d4b'), 'Name': 'Divya', 'Mobile_Num': 7777888899, 'Location': 'Kanchipuram', 'DOB': '12/12/2000'}\n",
      "{'_id': ObjectId('6355faeb0ac245503f5d1d4d'), 'Name': 'Dharika', 'Mobile_Num': 8888777766, 'Location': 'Nilgiri', 'DOB': '30/11/1998'}\n",
      "{'_id': ObjectId('6355fb370ac245503f5d1d4f'), 'Name': 'Dinesh', 'Mobile_Num': 7575757575, 'Location': 'Tuticorin', 'DOB': '14/05/2003'}\n",
      "{'_id': ObjectId('6355fb6d0ac245503f5d1d51'), 'Name': 'Elango', 'Mobile_Num': 6666887799, 'Location': 'Perambalur', 'DOB': '15/09/1998'}\n",
      "{'_id': ObjectId('6355fbb60ac245503f5d1d53'), 'Name': 'Ezhil', 'Mobile_Num': 8759875483, 'Location': 'Ariyalur', 'DOB': '09/10/2000'}\n",
      "{'_id': ObjectId('6355fbd90ac245503f5d1d55'), 'Name': 'Edwin', 'Mobile_Num': 8998899889, 'Location': 'Kanyakumari', 'DOB': '05/05/2003'}\n",
      "{'_id': ObjectId('6355fc170ac245503f5d1d57'), 'Name': 'Fazhil', 'Mobile_Num': 8775369842, 'Location': 'Virudhunagar', 'DOB': '11/11/1997'}\n",
      "{'_id': ObjectId('6355fc450ac245503f5d1d59'), 'Name': 'Faisal', 'Mobile_Num': 7777700000, 'Location': 'Madurai', 'DOB': '13/12/1996'}\n",
      "{'_id': ObjectId('6355fc970ac245503f5d1d5c'), 'Name': 'Faruk', 'Mobile_Num': 8888801010, 'Location': 'Udankudi', 'DOB': '28/05/2000'}\n",
      "{'_id': ObjectId('6355fcd20ac245503f5d1d5e'), 'Name': 'Gautham', 'Mobile_Num': 7410258963, 'Location': 'Theni', 'DOB': '28/02/2000'}\n",
      "{'_id': ObjectId('6355fd070ac245503f5d1d61'), 'Name': 'Guna', 'Mobile_Num': 7532159846, 'Location': 'Dindugul', 'DOB': '29/02/2000'}\n",
      "{'_id': ObjectId('6355fd3a0ac245503f5d1d63'), 'Name': 'Gayathri', 'Mobile_Num': 7102365893, 'Location': 'Chidambaram', 'DOB': '03/03/1999'}\n",
      "{'_id': ObjectId('6355fd760ac245503f5d1d65'), 'Name': 'Harika', 'Mobile_Num': 7000000000, 'Location': 'Thenkasi', 'DOB': '07/08/1993'}\n",
      "{'_id': ObjectId('6355fdbe0ac245503f5d1d68'), 'Name': 'Harini', 'Mobile_Num': 9999911122, 'Location': 'Cuddalore', 'DOB': '10/10/1999'}\n",
      "{'_id': ObjectId('6355fe2c0ac245503f5d1d6a'), 'Name': 'Harish', 'Mobile_Num': 4563217890, 'Location': 'Mayiladuthurai', 'DOB': '16/04/1999'}\n",
      "{'_id': ObjectId('6355fe6d0ac245503f5d1d6c'), 'Name': 'Jagdesh', 'Mobile_Num': 8023156547, 'Location': 'Kumbakonam', 'DOB': '04/04/2000'}\n",
      "{'_id': ObjectId('6355fea00ac245503f5d1d6e'), 'Name': 'Janavi', 'Mobile_Num': 6336363663, 'Location': 'Trichy', 'DOB': '01/02/1999'}\n",
      "{'_id': ObjectId('6355fed60ac245503f5d1d70'), 'Name': 'Jai', 'Mobile_Num': 6666666987, 'Location': 'Pudukootai', 'DOB': '06/06/1997'}\n",
      "{'_id': ObjectId('6355ff450ac245503f5d1d72'), 'Name': 'Karan', 'Mobile_Num': 9797979797, 'Location': 'Erode', 'DOB': '07/07/1998'}\n",
      "{'_id': ObjectId('6355ff7b0ac245503f5d1d74'), 'Name': 'Kaviya', 'Mobile_Num': 7410258911, 'Location': 'Salem', 'DOB': '08/08/1995'}\n",
      "{'_id': ObjectId('6355ffb00ac245503f5d1d76'), 'Name': 'Kumar', 'Mobile_Num': 7000012345, 'Location': 'Vellore', 'DOB': '10/10/1994'}\n"
     ]
    }
   ],
   "source": [
    "\n",
    "for i in Telephone_D.find():\n",
    "    print(i)"
   ]
  },
  {
   "cell_type": "markdown",
   "id": "0c51806e",
   "metadata": {},
   "source": [
    "# Updating_Document"
   ]
  },
  {
   "cell_type": "code",
   "execution_count": 42,
   "id": "e8d93fbb",
   "metadata": {},
   "outputs": [
    {
     "data": {
      "text/plain": [
       "<pymongo.results.UpdateResult at 0x22f23cc00d0>"
      ]
     },
     "execution_count": 42,
     "metadata": {},
     "output_type": "execute_result"
    }
   ],
   "source": [
    "Telephone_D.update_one({\"Name\":\"Fazhil\"},{\"$set\":{\"Name\":\"Fazhil\",\"Mobile_Num\":9099009045,\"Location\":\"Palani\",\"DOB\":\"16/08/1995\"}})"
   ]
  },
  {
   "cell_type": "markdown",
   "id": "5687fcd2",
   "metadata": {},
   "source": [
    "# Finding inserted Documents after update_one()....\n",
    "for i in Telephone_D.find():\n",
    "    print(i)"
   ]
  },
  {
   "cell_type": "code",
   "execution_count": 44,
   "id": "f396ab69",
   "metadata": {},
   "outputs": [
    {
     "name": "stdout",
     "output_type": "stream",
     "text": [
      "{'_id': ObjectId('6355f8ef0ac245503f5d1d39'), 'Name': 'Arun B', 'Mobile_Num': 5714236589, 'Location': 'Thanjavur', 'DOB': '20/05/1999'}\n",
      "{'_id': ObjectId('6355f9260ac245503f5d1d3b'), 'Name': 'Aadhi', 'Mobile_Num': 6589564112, 'Location': 'Coimbatore', 'DOB': '26/11/1998'}\n",
      "{'_id': ObjectId('6355f9520ac245503f5d1d3d'), 'Name': 'Abinaya', 'Mobile_Num': 5432169875, 'Location': 'Chennai', 'DOB': '19/09/1999'}\n",
      "{'_id': ObjectId('6355f9880ac245503f5d1d3f'), 'Name': 'Balaji S', 'Mobile_Num': 7788996655, 'Location': 'Tirupur', 'DOB': '15/12/2000'}\n",
      "{'_id': ObjectId('6355f9c10ac245503f5d1d41'), 'Name': 'Bobby', 'Mobile_Num': 9988776655, 'Location': 'Pondicherry', 'DOB': '02/12/1999'}\n",
      "{'_id': ObjectId('6355fa000ac245503f5d1d43'), 'Name': 'Barath', 'Mobile_Num': 9876543210, 'Location': 'Chidambaram', 'DOB': '16/08/2002'}\n",
      "{'_id': ObjectId('6355fa2e0ac245503f5d1d45'), 'Name': 'Chandru', 'Mobile_Num': 9887766559, 'Location': 'Tindivanam', 'DOB': '02/06/2000'}\n",
      "{'_id': ObjectId('6355fa5c0ac245503f5d1d47'), 'Name': 'Chennu', 'Mobile_Num': 5698712365, 'Location': 'Chengalpattu', 'DOB': '01/01/2001'}\n",
      "{'_id': ObjectId('6355fa8f0ac245503f5d1d49'), 'Name': 'Charu', 'Mobile_Num': 9998887776, 'Location': 'Tiruvalur', 'DOB': '04/07/1999'}\n",
      "{'_id': ObjectId('6355fabb0ac245503f5d1d4b'), 'Name': 'Divya', 'Mobile_Num': 7777888899, 'Location': 'Kanchipuram', 'DOB': '12/12/2000'}\n",
      "{'_id': ObjectId('6355faeb0ac245503f5d1d4d'), 'Name': 'Dharika', 'Mobile_Num': 8888777766, 'Location': 'Nilgiri', 'DOB': '30/11/1998'}\n",
      "{'_id': ObjectId('6355fb370ac245503f5d1d4f'), 'Name': 'Dinesh', 'Mobile_Num': 7575757575, 'Location': 'Tuticorin', 'DOB': '14/05/2003'}\n",
      "{'_id': ObjectId('6355fb6d0ac245503f5d1d51'), 'Name': 'Elango', 'Mobile_Num': 6666887799, 'Location': 'Perambalur', 'DOB': '15/09/1998'}\n",
      "{'_id': ObjectId('6355fbb60ac245503f5d1d53'), 'Name': 'Ezhil', 'Mobile_Num': 8759875483, 'Location': 'Ariyalur', 'DOB': '09/10/2000'}\n",
      "{'_id': ObjectId('6355fbd90ac245503f5d1d55'), 'Name': 'Edwin', 'Mobile_Num': 8998899889, 'Location': 'Kanyakumari', 'DOB': '05/05/2003'}\n",
      "{'_id': ObjectId('6355fc170ac245503f5d1d57'), 'Name': 'Fazhil', 'Mobile_Num': 9099009045, 'Location': 'Palani', 'DOB': '16/08/1995'}\n",
      "{'_id': ObjectId('6355fc450ac245503f5d1d59'), 'Name': 'Faisal', 'Mobile_Num': 7777700000, 'Location': 'Madurai', 'DOB': '13/12/1996'}\n",
      "{'_id': ObjectId('6355fc970ac245503f5d1d5c'), 'Name': 'Faruk', 'Mobile_Num': 8888801010, 'Location': 'Udankudi', 'DOB': '28/05/2000'}\n",
      "{'_id': ObjectId('6355fcd20ac245503f5d1d5e'), 'Name': 'Gautham', 'Mobile_Num': 7410258963, 'Location': 'Theni', 'DOB': '28/02/2000'}\n",
      "{'_id': ObjectId('6355fd070ac245503f5d1d61'), 'Name': 'Guna', 'Mobile_Num': 7532159846, 'Location': 'Dindugul', 'DOB': '29/02/2000'}\n",
      "{'_id': ObjectId('6355fd3a0ac245503f5d1d63'), 'Name': 'Gayathri', 'Mobile_Num': 7102365893, 'Location': 'Chidambaram', 'DOB': '03/03/1999'}\n",
      "{'_id': ObjectId('6355fd760ac245503f5d1d65'), 'Name': 'Harika', 'Mobile_Num': 7000000000, 'Location': 'Thenkasi', 'DOB': '07/08/1993'}\n",
      "{'_id': ObjectId('6355fdbe0ac245503f5d1d68'), 'Name': 'Harini', 'Mobile_Num': 9999911122, 'Location': 'Cuddalore', 'DOB': '10/10/1999'}\n",
      "{'_id': ObjectId('6355fe2c0ac245503f5d1d6a'), 'Name': 'Harish', 'Mobile_Num': 4563217890, 'Location': 'Mayiladuthurai', 'DOB': '16/04/1999'}\n",
      "{'_id': ObjectId('6355fe6d0ac245503f5d1d6c'), 'Name': 'Jagdesh', 'Mobile_Num': 8023156547, 'Location': 'Kumbakonam', 'DOB': '04/04/2000'}\n",
      "{'_id': ObjectId('6355fea00ac245503f5d1d6e'), 'Name': 'Janavi', 'Mobile_Num': 6336363663, 'Location': 'Trichy', 'DOB': '01/02/1999'}\n",
      "{'_id': ObjectId('6355fed60ac245503f5d1d70'), 'Name': 'Jai', 'Mobile_Num': 6666666987, 'Location': 'Pudukootai', 'DOB': '06/06/1997'}\n",
      "{'_id': ObjectId('6355ff450ac245503f5d1d72'), 'Name': 'Karan', 'Mobile_Num': 9797979797, 'Location': 'Erode', 'DOB': '07/07/1998'}\n",
      "{'_id': ObjectId('6355ff7b0ac245503f5d1d74'), 'Name': 'Kaviya', 'Mobile_Num': 7410258911, 'Location': 'Salem', 'DOB': '08/08/1995'}\n",
      "{'_id': ObjectId('6355ffb00ac245503f5d1d76'), 'Name': 'Kumar', 'Mobile_Num': 7000012345, 'Location': 'Vellore', 'DOB': '10/10/1994'}\n"
     ]
    }
   ],
   "source": [
    "for i in Telephone_D.find():\n",
    "    print(i)"
   ]
  },
  {
   "cell_type": "markdown",
   "id": "6c9bebca",
   "metadata": {},
   "source": [
    "# Deleting One Document Using Delete_one()"
   ]
  },
  {
   "cell_type": "code",
   "execution_count": 45,
   "id": "d890e308",
   "metadata": {},
   "outputs": [
    {
     "data": {
      "text/plain": [
       "<pymongo.results.DeleteResult at 0x22f23cba580>"
      ]
     },
     "execution_count": 45,
     "metadata": {},
     "output_type": "execute_result"
    }
   ],
   "source": [
    "Telephone_D.delete_one({\"Name\":\"Kumar\"})"
   ]
  },
  {
   "cell_type": "markdown",
   "id": "1a7b874e",
   "metadata": {},
   "source": [
    "# Finding inserted Documents after Delete_one()...."
   ]
  },
  {
   "cell_type": "code",
   "execution_count": 46,
   "id": "6a86285b",
   "metadata": {},
   "outputs": [
    {
     "name": "stdout",
     "output_type": "stream",
     "text": [
      "{'_id': ObjectId('6355f8ef0ac245503f5d1d39'), 'Name': 'Arun B', 'Mobile_Num': 5714236589, 'Location': 'Thanjavur', 'DOB': '20/05/1999'}\n",
      "{'_id': ObjectId('6355f9260ac245503f5d1d3b'), 'Name': 'Aadhi', 'Mobile_Num': 6589564112, 'Location': 'Coimbatore', 'DOB': '26/11/1998'}\n",
      "{'_id': ObjectId('6355f9520ac245503f5d1d3d'), 'Name': 'Abinaya', 'Mobile_Num': 5432169875, 'Location': 'Chennai', 'DOB': '19/09/1999'}\n",
      "{'_id': ObjectId('6355f9880ac245503f5d1d3f'), 'Name': 'Balaji S', 'Mobile_Num': 7788996655, 'Location': 'Tirupur', 'DOB': '15/12/2000'}\n",
      "{'_id': ObjectId('6355f9c10ac245503f5d1d41'), 'Name': 'Bobby', 'Mobile_Num': 9988776655, 'Location': 'Pondicherry', 'DOB': '02/12/1999'}\n",
      "{'_id': ObjectId('6355fa000ac245503f5d1d43'), 'Name': 'Barath', 'Mobile_Num': 9876543210, 'Location': 'Chidambaram', 'DOB': '16/08/2002'}\n",
      "{'_id': ObjectId('6355fa2e0ac245503f5d1d45'), 'Name': 'Chandru', 'Mobile_Num': 9887766559, 'Location': 'Tindivanam', 'DOB': '02/06/2000'}\n",
      "{'_id': ObjectId('6355fa5c0ac245503f5d1d47'), 'Name': 'Chennu', 'Mobile_Num': 5698712365, 'Location': 'Chengalpattu', 'DOB': '01/01/2001'}\n",
      "{'_id': ObjectId('6355fa8f0ac245503f5d1d49'), 'Name': 'Charu', 'Mobile_Num': 9998887776, 'Location': 'Tiruvalur', 'DOB': '04/07/1999'}\n",
      "{'_id': ObjectId('6355fabb0ac245503f5d1d4b'), 'Name': 'Divya', 'Mobile_Num': 7777888899, 'Location': 'Kanchipuram', 'DOB': '12/12/2000'}\n",
      "{'_id': ObjectId('6355faeb0ac245503f5d1d4d'), 'Name': 'Dharika', 'Mobile_Num': 8888777766, 'Location': 'Nilgiri', 'DOB': '30/11/1998'}\n",
      "{'_id': ObjectId('6355fb370ac245503f5d1d4f'), 'Name': 'Dinesh', 'Mobile_Num': 7575757575, 'Location': 'Tuticorin', 'DOB': '14/05/2003'}\n",
      "{'_id': ObjectId('6355fb6d0ac245503f5d1d51'), 'Name': 'Elango', 'Mobile_Num': 6666887799, 'Location': 'Perambalur', 'DOB': '15/09/1998'}\n",
      "{'_id': ObjectId('6355fbb60ac245503f5d1d53'), 'Name': 'Ezhil', 'Mobile_Num': 8759875483, 'Location': 'Ariyalur', 'DOB': '09/10/2000'}\n",
      "{'_id': ObjectId('6355fbd90ac245503f5d1d55'), 'Name': 'Edwin', 'Mobile_Num': 8998899889, 'Location': 'Kanyakumari', 'DOB': '05/05/2003'}\n",
      "{'_id': ObjectId('6355fc170ac245503f5d1d57'), 'Name': 'Fazhil', 'Mobile_Num': 9099009045, 'Location': 'Palani', 'DOB': '16/08/1995'}\n",
      "{'_id': ObjectId('6355fc450ac245503f5d1d59'), 'Name': 'Faisal', 'Mobile_Num': 7777700000, 'Location': 'Madurai', 'DOB': '13/12/1996'}\n",
      "{'_id': ObjectId('6355fc970ac245503f5d1d5c'), 'Name': 'Faruk', 'Mobile_Num': 8888801010, 'Location': 'Udankudi', 'DOB': '28/05/2000'}\n",
      "{'_id': ObjectId('6355fcd20ac245503f5d1d5e'), 'Name': 'Gautham', 'Mobile_Num': 7410258963, 'Location': 'Theni', 'DOB': '28/02/2000'}\n",
      "{'_id': ObjectId('6355fd070ac245503f5d1d61'), 'Name': 'Guna', 'Mobile_Num': 7532159846, 'Location': 'Dindugul', 'DOB': '29/02/2000'}\n",
      "{'_id': ObjectId('6355fd3a0ac245503f5d1d63'), 'Name': 'Gayathri', 'Mobile_Num': 7102365893, 'Location': 'Chidambaram', 'DOB': '03/03/1999'}\n",
      "{'_id': ObjectId('6355fd760ac245503f5d1d65'), 'Name': 'Harika', 'Mobile_Num': 7000000000, 'Location': 'Thenkasi', 'DOB': '07/08/1993'}\n",
      "{'_id': ObjectId('6355fdbe0ac245503f5d1d68'), 'Name': 'Harini', 'Mobile_Num': 9999911122, 'Location': 'Cuddalore', 'DOB': '10/10/1999'}\n",
      "{'_id': ObjectId('6355fe2c0ac245503f5d1d6a'), 'Name': 'Harish', 'Mobile_Num': 4563217890, 'Location': 'Mayiladuthurai', 'DOB': '16/04/1999'}\n",
      "{'_id': ObjectId('6355fe6d0ac245503f5d1d6c'), 'Name': 'Jagdesh', 'Mobile_Num': 8023156547, 'Location': 'Kumbakonam', 'DOB': '04/04/2000'}\n",
      "{'_id': ObjectId('6355fea00ac245503f5d1d6e'), 'Name': 'Janavi', 'Mobile_Num': 6336363663, 'Location': 'Trichy', 'DOB': '01/02/1999'}\n",
      "{'_id': ObjectId('6355fed60ac245503f5d1d70'), 'Name': 'Jai', 'Mobile_Num': 6666666987, 'Location': 'Pudukootai', 'DOB': '06/06/1997'}\n",
      "{'_id': ObjectId('6355ff450ac245503f5d1d72'), 'Name': 'Karan', 'Mobile_Num': 9797979797, 'Location': 'Erode', 'DOB': '07/07/1998'}\n",
      "{'_id': ObjectId('6355ff7b0ac245503f5d1d74'), 'Name': 'Kaviya', 'Mobile_Num': 7410258911, 'Location': 'Salem', 'DOB': '08/08/1995'}\n"
     ]
    }
   ],
   "source": [
    "for i in Telephone_D.find():\n",
    "    print(i)"
   ]
  },
  {
   "cell_type": "code",
   "execution_count": null,
   "id": "34362c60",
   "metadata": {},
   "outputs": [],
   "source": []
  }
 ],
 "metadata": {
  "kernelspec": {
   "display_name": "Python 3 (ipykernel)",
   "language": "python",
   "name": "python3"
  },
  "language_info": {
   "codemirror_mode": {
    "name": "ipython",
    "version": 3
   },
   "file_extension": ".py",
   "mimetype": "text/x-python",
   "name": "python",
   "nbconvert_exporter": "python",
   "pygments_lexer": "ipython3",
   "version": "3.9.12"
  }
 },
 "nbformat": 4,
 "nbformat_minor": 5
}
